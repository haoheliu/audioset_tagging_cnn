{
 "cells": [
  {
   "cell_type": "markdown",
   "metadata": {},
   "source": [
    "# This script is to check if the audio tagging and sound event detection is finished"
   ]
  },
  {
   "cell_type": "code",
   "execution_count": 3,
   "metadata": {},
   "outputs": [
    {
     "name": "stdout",
     "output_type": "stream",
     "text": [
      "Total files: 33508\n"
     ]
    },
    {
     "name": "stderr",
     "output_type": "stream",
     "text": [
      "100%|██████████| 33508/33508 [00:15<00:00, 2215.94it/s]\n"
     ]
    },
    {
     "data": {
      "text/plain": [
       "(7353, 0)"
      ]
     },
     "execution_count": 3,
     "metadata": {},
     "output_type": "execute_result"
    }
   ],
   "source": [
    "import os\n",
    "import glob\n",
    "from tqdm import tqdm\n",
    "\n",
    "PATH = \"/vol/research/ai4sound/datasets/bbc_sound_effect/mp3\"\n",
    "audio_files = glob.glob(os.path.join(PATH,\"*/*.mp3\"))\n",
    "print(\"Total files:\", len(audio_files))\n",
    "\n",
    "def validate(fpath):\n",
    "    a,b = False, False\n",
    "    f_tagging = fpath.replace(\".mp3\",\"_tagging.pkl\")\n",
    "    f_sed = fpath.replace(\".mp3\",\"_sed.pkl\")\n",
    "    if(os.path.exists(f_tagging)): a=True\n",
    "    if(os.path.exists(f_sed)): b=True\n",
    "    return a,b\n",
    "\n",
    "unlabelled_tagging=0\n",
    "unlabelled_sed=0\n",
    "\n",
    "for file in tqdm(audio_files):\n",
    "    a,b = validate(file)\n",
    "    if(not a): unlabelled_tagging+=1\n",
    "    if(not b): unlabelled_sed+=1\n",
    "unlabelled_tagging, unlabelled_sed"
   ]
  },
  {
   "cell_type": "code",
   "execution_count": 13,
   "metadata": {},
   "outputs": [],
   "source": []
  },
  {
   "cell_type": "code",
   "execution_count": 14,
   "metadata": {},
   "outputs": [
    {
     "name": "stdout",
     "output_type": "stream",
     "text": [
      "> \u001b[0;32m/tmp/ipykernel_23741/4090480829.py\u001b[0m(5)\u001b[0;36m<module>\u001b[0;34m()\u001b[0m\n",
      "\u001b[0;32m      4 \u001b[0;31m    \u001b[0;32mimport\u001b[0m \u001b[0mipdb\u001b[0m\u001b[0;34m;\u001b[0m \u001b[0mipdb\u001b[0m\u001b[0;34m.\u001b[0m\u001b[0mset_trace\u001b[0m\u001b[0;34m(\u001b[0m\u001b[0;34m)\u001b[0m\u001b[0;34m\u001b[0m\u001b[0;34m\u001b[0m\u001b[0m\n",
      "\u001b[0m\u001b[0;32m----> 5 \u001b[0;31m    \u001b[0;32mbreak\u001b[0m\u001b[0;34m\u001b[0m\u001b[0;34m\u001b[0m\u001b[0m\n",
      "\u001b[0m\u001b[0;32m      6 \u001b[0;31m\u001b[0;34m\u001b[0m\u001b[0m\n",
      "\u001b[0m\n",
      "*** ValueError: If using all scalar values, you must pass an index\n",
      "                                        0\n",
      "Vehicle                          0.399044\n",
      "Train                            0.387985\n",
      "Rail transport                   0.254836\n",
      "Railroad car, train wagon        0.211691\n",
      "Subway, metro, underground       0.102826\n",
      "Car                              0.074143\n",
      "Rumble                           0.063677\n",
      "Music                            0.052569\n",
      "Engine                           0.048096\n",
      "Outside, urban or manmade        0.044509\n",
      "Aircraft                         0.042185\n",
      "Bus                              0.039657\n",
      "Field recording                  0.035319\n",
      "Heavy engine (low frequency)     0.029415\n",
      "Whir                             0.029047\n",
      "Siren                            0.026092\n",
      "Accelerating, revving, vroom     0.024583\n",
      "Fixed-wing aircraft, airplane    0.023682\n",
      "Speech                           0.023626\n",
      "Train horn                       0.022988\n",
      "Outside, rural or natural        0.021674\n",
      "Vehicle horn, car horn, honking  0.021244\n",
      "Scary music                      0.020095\n",
      "Clickety-clack                   0.019063\n",
      "Inside, small room               0.017326\n",
      "Medium engine (mid frequency)    0.017306\n",
      "Silence                          0.015142\n",
      "Motor vehicle (road)             0.015017\n",
      "Microwave oven                   0.014710\n",
      "Truck                            0.013675\n",
      "Idling                           0.013523\n",
      "Civil defense siren              0.012828\n",
      "Whoosh, swoosh, swish            0.012343\n",
      "Ship                             0.011793\n",
      "Fire engine, fire truck (siren)  0.011650\n",
      "White noise                      0.011567\n",
      "Sound effect                     0.010534\n",
      "Jet engine                       0.010458\n",
      "Emergency vehicle                0.010303\n",
      "Train whistle                    0.010020\n",
      "Thunder                          0.008431\n",
      "Rustle                           0.008090\n",
      "Train wheels squealing           0.008021\n",
      "Sliding door                     0.007749\n",
      "Traffic noise, roadway noise     0.007277\n",
      "Inside, large room or hall       0.006724\n",
      "Vibration                        0.006471\n",
      "Car passing by                   0.006389\n",
      "Boat, Water vehicle              0.006313\n",
      "Race car, auto racing            0.005973\n",
      "--KeyboardInterrupt--\n",
      "\n",
      "KeyboardInterrupt: Interrupted by user\n"
     ]
    }
   ],
   "source": []
  },
  {
   "cell_type": "code",
   "execution_count": null,
   "metadata": {},
   "outputs": [],
   "source": []
  }
 ],
 "metadata": {
  "interpreter": {
   "hash": "d3b7c2a796e80eddb332415ae6ea151fe39f1db2d7569deba92d9f492ff00e90"
  },
  "kernelspec": {
   "display_name": "Python 3.7.13 ('py38': conda)",
   "language": "python",
   "name": "python3"
  },
  "language_info": {
   "codemirror_mode": {
    "name": "ipython",
    "version": 3
   },
   "file_extension": ".py",
   "mimetype": "text/x-python",
   "name": "python",
   "nbconvert_exporter": "python",
   "pygments_lexer": "ipython3",
   "version": "3.7.13"
  },
  "orig_nbformat": 4
 },
 "nbformat": 4,
 "nbformat_minor": 2
}
